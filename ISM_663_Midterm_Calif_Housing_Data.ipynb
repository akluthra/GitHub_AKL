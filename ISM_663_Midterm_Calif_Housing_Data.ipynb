{
  "nbformat": 4,
  "nbformat_minor": 0,
  "metadata": {
    "colab": {
      "provenance": [],
      "include_colab_link": true
    },
    "kernelspec": {
      "name": "python3",
      "display_name": "Python 3"
    },
    "language_info": {
      "name": "python"
    }
  },
  "cells": [
    {
      "cell_type": "markdown",
      "metadata": {
        "id": "view-in-github",
        "colab_type": "text"
      },
      "source": [
        "<a href=\"https://colab.research.google.com/github/akluthra/GitHub_AKL/blob/master/ISM_663_Midterm_Calif_Housing_Data.ipynb\" target=\"_parent\"><img src=\"https://colab.research.google.com/assets/colab-badge.svg\" alt=\"Open In Colab\"/></a>"
      ]
    },
    {
      "cell_type": "markdown",
      "source": [
        "## ISM 663 Midterm Exam using California Housing Data for Home Price Prediction Using Neural Network Regression Model"
      ],
      "metadata": {
        "id": "OANCAZDZpL3Q"
      }
    },
    {
      "cell_type": "code",
      "source": [],
      "metadata": {
        "id": "aq_qXLe5pLa-"
      },
      "execution_count": null,
      "outputs": []
    },
    {
      "cell_type": "markdown",
      "source": [
        "##Deliverables: Please compelete this Notebook following Boston Housing Data Set notebook. Upload to Canvas by the Deadline Specified for the Midterm Exam. NO LATE SUBMISSIONS WILL BE ACCEPTED. EACH DAY LATE INCURS A PENALTY OF 10 PERCENT OF THE MIDTERM EXAM GRADE."
      ],
      "metadata": {
        "id": "_v_4TAZgrKly"
      }
    },
    {
      "cell_type": "markdown",
      "source": [
        "## Note: You are required to follow UNCG Academic Integrity Policy in this Exam. No Gen AI code assistant are allowed in this exam. The work should be entirely individual work with mo consultation or help from anyone in any form."
      ],
      "metadata": {
        "id": "7fYp1kJPphXc"
      }
    },
    {
      "cell_type": "markdown",
      "source": [
        "### We have already provided libraries and have provided code to download the California Housing Data. These codes have been tested in Google and Collab and has successfully worked."
      ],
      "metadata": {
        "id": "RlsdsG8Kp7i_"
      }
    },
    {
      "cell_type": "code",
      "source": [
        "#@title Import relevant modules\n",
        "import numpy as np\n",
        "import pandas as pd\n",
        "import tensorflow as tf\n",
        "from tensorflow.keras import layers\n",
        "from matplotlib import pyplot as plt\n",
        "import seaborn as sns\n",
        "\n",
        "# The following lines adjust the granularity of reporting.\n",
        "pd.options.display.max_rows = 10\n",
        "pd.options.display.float_format = \"{:.1f}\".format\n",
        "\n"
      ],
      "metadata": {
        "colab": {
          "base_uri": "https://localhost:8080/"
        },
        "id": "LlFUJvLQktu_",
        "outputId": "4678fb43-9c54-483d-df3e-26b52fda0780"
      },
      "execution_count": null,
      "outputs": [
        {
          "output_type": "stream",
          "name": "stdout",
          "text": [
            "Imported modules.\n"
          ]
        }
      ]
    },
    {
      "cell_type": "code",
      "source": [],
      "metadata": {
        "id": "iXGcZ1ppnN-S"
      },
      "execution_count": null,
      "outputs": []
    },
    {
      "cell_type": "code",
      "source": [],
      "metadata": {
        "id": "KAD5HZtLktzm"
      },
      "execution_count": null,
      "outputs": []
    },
    {
      "cell_type": "markdown",
      "source": [
        "### Importing California Housing Dataset in pandas DataFrame below. You can use the pandas DataFrame for training data and testing data as is."
      ],
      "metadata": {
        "id": "a0pDFoxDqZNm"
      }
    },
    {
      "cell_type": "code",
      "source": [
        "train_df = pd.read_csv(\"https://download.mlcc.google.com/mledu-datasets/california_housing_train.csv\")\n",
        "#train_df = train_df.reindex(np.random.permutation(train_df.index)) # shuffle the examples\n",
        "test_df = pd.read_csv(\"https://download.mlcc.google.com/mledu-datasets/california_housing_test.csv\")"
      ],
      "metadata": {
        "id": "8Vxq9U1Fkt5i"
      },
      "execution_count": null,
      "outputs": []
    },
    {
      "cell_type": "code",
      "source": [
        "print(train_df.head())"
      ],
      "metadata": {
        "colab": {
          "base_uri": "https://localhost:8080/"
        },
        "id": "6iWsildKnO6w",
        "outputId": "80b42624-3d54-44c1-b336-781cc33da3c9"
      },
      "execution_count": null,
      "outputs": [
        {
          "output_type": "stream",
          "name": "stdout",
          "text": [
            "   longitude  latitude  housing_median_age  total_rooms  total_bedrooms  \\\n",
            "0     -114.3      34.2                15.0       5612.0          1283.0   \n",
            "1     -114.5      34.4                19.0       7650.0          1901.0   \n",
            "2     -114.6      33.7                17.0        720.0           174.0   \n",
            "3     -114.6      33.6                14.0       1501.0           337.0   \n",
            "4     -114.6      33.6                20.0       1454.0           326.0   \n",
            "\n",
            "   population  households  median_income  median_house_value  \n",
            "0      1015.0       472.0            1.5             66900.0  \n",
            "1      1129.0       463.0            1.8             80100.0  \n",
            "2       333.0       117.0            1.7             85700.0  \n",
            "3       515.0       226.0            3.2             73400.0  \n",
            "4       624.0       262.0            1.9             65500.0  \n"
          ]
        }
      ]
    },
    {
      "cell_type": "code",
      "source": [
        "print(test_df.head())"
      ],
      "metadata": {
        "colab": {
          "base_uri": "https://localhost:8080/"
        },
        "id": "SF90RDaTnPE9",
        "outputId": "a4f78714-21ac-4d51-ee7f-8a54f73ee1c8"
      },
      "execution_count": null,
      "outputs": [
        {
          "output_type": "stream",
          "name": "stdout",
          "text": [
            "   longitude  latitude  housing_median_age  total_rooms  total_bedrooms  \\\n",
            "0     -122.0      37.4                27.0       3885.0           661.0   \n",
            "1     -118.3      34.3                43.0       1510.0           310.0   \n",
            "2     -117.8      33.8                27.0       3589.0           507.0   \n",
            "3     -118.4      33.8                28.0         67.0            15.0   \n",
            "4     -119.7      36.3                19.0       1241.0           244.0   \n",
            "\n",
            "   population  households  median_income  median_house_value  \n",
            "0      1537.0       606.0            6.6            344700.0  \n",
            "1       809.0       277.0            3.6            176500.0  \n",
            "2      1484.0       495.0            5.8            270500.0  \n",
            "3        49.0        11.0            6.1            330000.0  \n",
            "4       850.0       237.0            2.9             81700.0  \n"
          ]
        }
      ]
    },
    {
      "cell_type": "code",
      "source": [],
      "metadata": {
        "id": "DjXjiwvdosQN"
      },
      "execution_count": null,
      "outputs": []
    },
    {
      "cell_type": "markdown",
      "source": [
        "##Question: Please complete this notebook following what was done in Boston Housing Price Data Set. Plese explain at each step as you develop the NN Model for Housing Price Prediction."
      ],
      "metadata": {
        "id": "Z3abFHenqro6"
      }
    },
    {
      "cell_type": "code",
      "source": [],
      "metadata": {
        "id": "iC6JDx8CosZg"
      },
      "execution_count": null,
      "outputs": []
    },
    {
      "cell_type": "code",
      "source": [],
      "metadata": {
        "id": "e-CQq10Lose9"
      },
      "execution_count": null,
      "outputs": []
    },
    {
      "cell_type": "code",
      "source": [],
      "metadata": {
        "id": "eYtHcEYzrIw5"
      },
      "execution_count": null,
      "outputs": []
    },
    {
      "cell_type": "code",
      "source": [],
      "metadata": {
        "id": "TESi2dlSrI5J"
      },
      "execution_count": null,
      "outputs": []
    }
  ]
}